{
 "cells": [
  {
   "cell_type": "code",
   "execution_count": 2,
   "metadata": {
    "collapsed": true
   },
   "outputs": [],
   "source": [
    "import tensorflow as tf\n",
    "import numpy as np\n",
    "import os\n",
    "import os.path\n",
    "\n",
    "#c-rnn-gan\n",
    "#char-rnn 을 gan형식으로 제작할 것. dur fre vel\n",
    "\n",
    "lstm_dim = 350\n",
    "song_feature = 4\n",
    "start_num = 0\n",
    "batch_size = 50\n",
    "max_song_size = 200\n",
    "global EPOCH\n",
    "EPOCH = 200\n",
    "isAdam = True\n",
    "AdamLearningrate = {'G': 0.05, 'D': 0.05, 'P': 1e-8}\n",
    "GDLearningrate = {'G': 0.1, 'D': 0.1, 'P': 1e-7}\n",
    "print_batch = 1\n",
    "save_batch = 50\n",
    "DEBUG = True\n",
    "reg_scale = 0.5\n",
    "\n",
    "\n",
    "#final multiply in G\n",
    "song_num = {'train': 0, 'validation': 0, 'test': 0}\n",
    "song_var = {'train': 0, 'validation': 0, 'test': 0}"
   ]
  },
  {
   "cell_type": "code",
   "execution_count": 3,
   "metadata": {},
   "outputs": [],
   "source": [
    "def init_batch():\n",
    "    song_num['train'] = len(os.listdir('./train'))\n",
    "    song_num['validation'] = len(os.listdir('./validation'))\n",
    "    song_num['test'] = len(os.listdir('./test'))\n",
    "\n",
    "\n",
    "def get_batch(what='train'):\n",
    "    out_batch = []\n",
    "    start_ptn = song_var[what]\n",
    "    end_ptn = start_ptn + batch_size\n",
    "    if end_ptn>song_num[what]:\n",
    "        for i in range(start_ptn, song_num[what]):\n",
    "            tmp_in = np.load('./'+what+'/'+str(i)+'.npy')\n",
    "            out_batch.append(tmp_in)\n",
    "        for i in range(0, end_ptn%song_num[what]):\n",
    "            tmp_in = np.load('./'+what+'/'+str(i)+'.npy')\n",
    "            out_batch.append(tmp_in)\n",
    "    else:\n",
    "        for i in range(start_ptn, end_ptn):\n",
    "            tmp_in = np.load('./'+what+'/'+str(i)+'.npy')\n",
    "            out_batch.append(tmp_in)\n",
    "\n",
    "    song_var[what] = end_ptn%song_num[what]\n",
    "    return out_batch\n",
    "\n",
    "def get_batch_matrix(what = 'train'):\n",
    "    song_data = np.zeros([batch_size, max_song_size, song_feature], dtype=np.uint32)\n",
    "    song_getsoo = []\n",
    "    read_batch = get_batch(what)\n",
    "    for i, newbat in enumerate(read_batch):\n",
    "        tmp_max = max_song_size\n",
    "        if max_song_size > newbat.shape[0]:\n",
    "            tmp_max = newbat.shape[0]\n",
    "        song_data[i, :tmp_max, :] = newbat[:tmp_max, :]\n",
    "        song_getsoo.append(tmp_max)\n",
    "    return song_data, song_getsoo"
   ]
  },
  {
   "cell_type": "code",
   "execution_count": 4,
   "metadata": {},
   "outputs": [],
   "source": [
    "def linear(inp, out_dim, scope_name, reuse=False):\n",
    "    with tf.variable_scope(scope_name, reuse=reuse):\n",
    "        from_dim = int(inp.shape[1])\n",
    "        lin_w = tf.get_variable('lin_w', [from_dim,out_dim], dtype = tf.float32, initializer = tf.truncated_normal_initializer)\n",
    "        lin_b = tf.get_variable('lin_b', [out_dim], dtype = tf.float32, initializer = tf.truncated_normal_initializer)\n",
    "    return tf.matmul(inp, lin_w)+lin_b\n",
    "\n",
    "\n",
    "def lstmcell(outdim_size = lstm_dim):\n",
    "    return tf.contrib.rnn.BasicLSTMCell(outdim_size)\n",
    "\n",
    "\n",
    "def dropout_lstm_cell(outdim_size = lstm_dim, keep_prob = 0.6):\n",
    "    cell = lstmcell(outdim_size)\n",
    "    cell = tf.nn.rnn_cell.DropoutWrapper(cell, output_keep_prob = keep_prob)\n",
    "    return cell"
   ]
  },
  {
   "cell_type": "code",
   "execution_count": 6,
   "metadata": {},
   "outputs": [],
   "source": [
    "cell_list_fw = [lstmcell(lstm_dim) for _ in range(3)]\n",
    "cell_list_bw = [lstmcell(lstm_dim) for _ in range(3)]\n",
    "\n",
    "\n",
    "def discriminator(x_input, x_size):\n",
    "    # Batch Normal\n",
    "    #x_input = tf.contrib.layers.batch_norm(x_input)\n",
    "    lstm_fw = tf.contrib.rnn.MultiRNNCell(cell_list_fw)\n",
    "    lstm_bw = tf.contrib.rnn.MultiRNNCell(cell_list_bw)\n",
    "    output, _ = tf.nn.bidirectional_dynamic_rnn(lstm_fw,lstm_bw, x_input, x_size, dtype= tf.float32)\n",
    "    return output[0], output[1]\n",
    "\n",
    "\n",
    "def generator(z_prior, z_size):\n",
    "    lstm = tf.contrib.rnn.MultiRNNCell([lstmcell() for _ in range(3)])\n",
    "    output, _ = tf.nn.dynamic_rnn(lstm, z_prior, dtype= tf.float32, sequence_length = z_size)\n",
    "    return output\n",
    "\n",
    "\n",
    "def get_dis_res(two_added_mean, scope_name, reuse=False):\n",
    "    with tf.variable_scope(scope_name, reuse=reuse):\n",
    "        dis_res = tf.reshape(two_added_mean, [-1, lstm_dim])\n",
    "        dis_res = linear(dis_res, 1, scope_name+'_lin', reuse=reuse)\n",
    "        dis_res = tf.sigmoid(dis_res)\n",
    "        dis_res = tf.reshape(dis_res, [batch_size, max_song_size])\n",
    "        dis_res = tf.reduce_mean(dis_res, axis=1)\n",
    "    return dis_res"
   ]
  },
  {
   "cell_type": "code",
   "execution_count": 7,
   "metadata": {},
   "outputs": [
    {
     "name": "stdout",
     "output_type": "stream",
     "text": [
      "(10000, 350)\n"
     ]
    },
    {
     "name": "stdout",
     "output_type": "stream",
     "text": [
      "Tensor(\"discriminator/add_2:0\", shape=(10000, 350), dtype=float32)\n"
     ]
    }
   ],
   "source": [
    "global EPOCH\n",
    "init_batch()\n",
    "save_cnt = tf.Variable(0, dtype=tf.int32, name='global_step')\n",
    "z_in = tf.random_uniform([batch_size, max_song_size, lstm_dim],minval = 0.0, maxval=1.0)\n",
    "z_size = tf.constant(max_song_size, dtype= tf.int32, shape=[batch_size])\n",
    "x_in = tf.placeholder(tf.float32, shape = [batch_size, max_song_size, song_feature])\n",
    "x_size = tf.placeholder(tf.int32, shape = [batch_size])\n",
    "with tf.variable_scope(\"Generator\") as scope:\n",
    "    scope.set_regularizer(tf.contrib.layers.l2_regularizer(scale=reg_scale))\n",
    "    gen = generator(z_in, z_size)\n",
    "    gen = tf.reshape(gen,[-1, lstm_dim])\n",
    "    gen = linear(gen, song_feature, 'gen_linear')\n",
    "    gen_res = tf.reshape(gen, [-1, max_song_size, song_feature])\n",
    "    generator_variables = [v for v in tf.global_variables()\n",
    "                           if v.name.startswith(scope.name)]\n",
    "\n",
    "\n",
    "with tf.variable_scope(\"discriminator\") as scope2:\n",
    "    scope2.set_regularizer(tf.contrib.layers.l2_regularizer(scale=reg_scale))\n",
    "    gen_converted = linear(gen, lstm_dim, 'dis_lin')\n",
    "    print(gen_converted.shape)\n",
    "    gen_converted = tf.reshape(gen_converted,[-1, max_song_size, lstm_dim])\n",
    "    dis_gen_fw, dis_gen_bw = discriminator(gen_converted, z_size)\n",
    "    dis_calc_in_loss_gen = (dis_gen_fw+dis_gen_bw)/2\n",
    "    dis_res_gen = get_dis_res(dis_calc_in_loss_gen, 'dis_res')\n",
    "    scope2.reuse_variables()\n",
    "    x_in_cv = tf.reshape(x_in, [-1, song_feature])\n",
    "    x_in_cv = linear(x_in_cv, lstm_dim, 'dis_lin', reuse=True)\n",
    "    print(x_in_cv)\n",
    "    x_in_cv = tf.reshape(x_in_cv, [-1,max_song_size, lstm_dim])\n",
    "    dis_real_fw, dis_real_bw = discriminator(x_in_cv, x_size)\n",
    "    dis_calc_in_loss_real = (dis_real_fw+dis_real_bw)/2\n",
    "    dis_res_real = get_dis_res(dis_calc_in_loss_real, 'dis_res', reuse=True)\n",
    "    #D Loss를 위한 식\n",
    "    dis_variables = [v for v in tf.global_variables()\n",
    "                     if v.name.startswith(scope2.name)]"
   ]
  },
  {
   "cell_type": "code",
   "execution_count": 8,
   "metadata": {},
   "outputs": [
    {
     "name": "stdout",
     "output_type": "stream",
     "text": [
      "genvars:  [<tf.Variable 'Generator/rnn/multi_rnn_cell/cell_0/basic_lstm_cell/kernel:0' shape=(700, 1400) dtype=float32_ref>, <tf.Variable 'Generator/rnn/multi_rnn_cell/cell_0/basic_lstm_cell/bias:0' shape=(1400,) dtype=float32_ref>, <tf.Variable 'Generator/rnn/multi_rnn_cell/cell_1/basic_lstm_cell/kernel:0' shape=(700, 1400) dtype=float32_ref>, <tf.Variable 'Generator/rnn/multi_rnn_cell/cell_1/basic_lstm_cell/bias:0' shape=(1400,) dtype=float32_ref>, <tf.Variable 'Generator/rnn/multi_rnn_cell/cell_2/basic_lstm_cell/kernel:0' shape=(700, 1400) dtype=float32_ref>, <tf.Variable 'Generator/rnn/multi_rnn_cell/cell_2/basic_lstm_cell/bias:0' shape=(1400,) dtype=float32_ref>, <tf.Variable 'Generator/gen_linear/lin_w:0' shape=(350, 4) dtype=float32_ref>, <tf.Variable 'Generator/gen_linear/lin_b:0' shape=(4,) dtype=float32_ref>]\ndisvars:  [<tf.Variable 'discriminator/dis_lin/lin_w:0' shape=(4, 350) dtype=float32_ref>, <tf.Variable 'discriminator/dis_lin/lin_b:0' shape=(350,) dtype=float32_ref>, <tf.Variable 'discriminator/bidirectional_rnn/fw/multi_rnn_cell/cell_0/basic_lstm_cell/kernel:0' shape=(700, 1400) dtype=float32_ref>, <tf.Variable 'discriminator/bidirectional_rnn/fw/multi_rnn_cell/cell_0/basic_lstm_cell/bias:0' shape=(1400,) dtype=float32_ref>, <tf.Variable 'discriminator/bidirectional_rnn/fw/multi_rnn_cell/cell_1/basic_lstm_cell/kernel:0' shape=(700, 1400) dtype=float32_ref>, <tf.Variable 'discriminator/bidirectional_rnn/fw/multi_rnn_cell/cell_1/basic_lstm_cell/bias:0' shape=(1400,) dtype=float32_ref>, <tf.Variable 'discriminator/bidirectional_rnn/fw/multi_rnn_cell/cell_2/basic_lstm_cell/kernel:0' shape=(700, 1400) dtype=float32_ref>, <tf.Variable 'discriminator/bidirectional_rnn/fw/multi_rnn_cell/cell_2/basic_lstm_cell/bias:0' shape=(1400,) dtype=float32_ref>, <tf.Variable 'discriminator/bidirectional_rnn/bw/multi_rnn_cell/cell_0/basic_lstm_cell/kernel:0' shape=(700, 1400) dtype=float32_ref>, <tf.Variable 'discriminator/bidirectional_rnn/bw/multi_rnn_cell/cell_0/basic_lstm_cell/bias:0' shape=(1400,) dtype=float32_ref>, <tf.Variable 'discriminator/bidirectional_rnn/bw/multi_rnn_cell/cell_1/basic_lstm_cell/kernel:0' shape=(700, 1400) dtype=float32_ref>, <tf.Variable 'discriminator/bidirectional_rnn/bw/multi_rnn_cell/cell_1/basic_lstm_cell/bias:0' shape=(1400,) dtype=float32_ref>, <tf.Variable 'discriminator/bidirectional_rnn/bw/multi_rnn_cell/cell_2/basic_lstm_cell/kernel:0' shape=(700, 1400) dtype=float32_ref>, <tf.Variable 'discriminator/bidirectional_rnn/bw/multi_rnn_cell/cell_2/basic_lstm_cell/bias:0' shape=(1400,) dtype=float32_ref>, <tf.Variable 'discriminator/dis_res/dis_res_lin/lin_w:0' shape=(350, 1) dtype=float32_ref>, <tf.Variable 'discriminator/dis_res/dis_res_lin/lin_b:0' shape=(1,) dtype=float32_ref>]\n"
     ]
    }
   ],
   "source": [
    "predict_real = tf.round(dis_res_real)\n",
    "predict_gen = tf.round(dis_res_gen)\n",
    "accuracy_res = (tf.reduce_mean(predict_real) + tf.reduce_mean(1-predict_gen))/2\n",
    "print('genvars: ', generator_variables)\n",
    "print('disvars: ', dis_variables)\n",
    "# Generator Feature Matching Loss\n",
    "\n",
    "g_fm_loss = tf.reduce_sum(tf.squared_difference(dis_calc_in_loss_real, dis_calc_in_loss_gen))\n",
    "d_loss = tf.reduce_mean(-tf.log(tf.clip_by_value(dis_res_real, 1e-20, 1))-tf.log(tf.clip_by_value(1.0 - dis_res_gen, 1e-20, 1)))\n",
    "train_AdamG = tf.train.AdamOptimizer(AdamLearningrate['G']).minimize(g_fm_loss, var_list = generator_variables)\n",
    "train_AdamD = tf.train.AdamOptimizer(AdamLearningrate['D']).minimize(d_loss, var_list = dis_variables)\n",
    "\n",
    "trainG = tf.train.GradientDescentOptimizer(GDLearningrate['G']).minimize(g_fm_loss, var_list = generator_variables)\n",
    "trainD = tf.train.GradientDescentOptimizer(GDLearningrate['D']).minimize(d_loss, var_list = dis_variables)\n",
    "\n",
    "pretrain_loss = tf.reduce_sum(tf.squared_difference(gen_res, x_in))\n",
    "\n",
    "train_pre_G = tf.train.GradientDescentOptimizer(GDLearningrate['P']).minimize(pretrain_loss)\n",
    "train_pre_A = tf.train.AdamOptimizer(AdamLearningrate['P']).minimize(pretrain_loss)\n",
    "\n",
    "saver = tf.train.Saver()"
   ]
  },
  {
   "cell_type": "code",
   "execution_count": 8,
   "metadata": {},
   "outputs": [
    {
     "name": "stdout",
     "output_type": "stream",
     "text": [
      "./saved_model/model.ckpt-151\nINFO:tensorflow:Restoring parameters from ./saved_model/model.ckpt-151\n"
     ]
    },
    {
     "name": "stdout",
     "output_type": "stream",
     "text": [
      "Saved Session Found step:  151\nPre train completed\n"
     ]
    },
    {
     "name": "stdout",
     "output_type": "stream",
     "text": [
      "accuracy :  1.0\n"
     ]
    },
    {
     "name": "stdout",
     "output_type": "stream",
     "text": [
      "(50, 200, 4)\nGenerated [3606  113   71   81]\nepoch:  6  cnt_step_num:  151  G loss:  2495.77  D loss:  0.704691\n517   2361\ngen_weight [[ 40.55947876  -0.29604536  -0.55973601   1.14987433]\n [ 14.93714428  -1.03461289  -1.36830294  -0.63575888]\n [-33.76376343   0.35210499  -0.31349742  -1.05014253]\n ..., \n [-14.50336933   0.86721909   0.49133998   0.26648962]\n [ 44.03420639   1.08551705   1.51561654   0.67298126]\n [ 23.11143494  -0.44722089  -0.34421861   1.2395612 ]]\n"
     ]
    },
    {
     "name": "stdout",
     "output_type": "stream",
     "text": [
      "accuracy :  0.99\n"
     ]
    },
    {
     "name": "stdout",
     "output_type": "stream",
     "text": [
      "(50, 200, 4)\nGenerated [3615  103   62   71]\nepoch:  6  cnt_step_num:  152  G loss:  2332.65  D loss:  0.708894\n567   2361\ngen_weight [[ 40.52223969  -0.2588008   -0.522493     1.18711805]\n [ 14.93714428  -1.03461289  -1.36830294  -0.63575888]\n [-33.72652435   0.31486046  -0.35074043  -1.08738625]\n ..., \n [-14.50336933   0.86721909   0.49133998   0.26648962]\n [ 44.03420639   1.08551705   1.51561654   0.67298126]\n [ 23.11143494  -0.44722089  -0.34421861   1.2395612 ]]\n"
     ]
    },
    {
     "name": "stdout",
     "output_type": "stream",
     "text": [
      "accuracy :  0.99\n"
     ]
    },
    {
     "name": "stdout",
     "output_type": "stream",
     "text": [
      "(50, 200, 4)\nGenerated [3586   90   52   63]\nepoch:  6  cnt_step_num:  153  G loss:  2155.4  D loss:  0.737907\n617   2361\ngen_weight [[ 40.55378342  -0.29034588  -0.55403805   1.15557301]\n [ 14.93714428  -1.03461289  -1.36830294  -0.63575888]\n [-33.75806808   0.34640551  -0.31919539  -1.05584121]\n ..., \n [-14.50336933   0.86721909   0.49133998   0.26648962]\n [ 44.02506638   1.11550188   1.53091204   0.69285476]\n [ 23.11143494  -0.44722089  -0.34421861   1.2395612 ]]\n"
     ]
    },
    {
     "name": "stdout",
     "output_type": "stream",
     "text": [
      "accuracy :  1.0\n"
     ]
    },
    {
     "name": "stdout",
     "output_type": "stream",
     "text": [
      "(50, 200, 4)\nGenerated [4914  164   77   95]\nepoch:  6  cnt_step_num:  154  G loss:  2777.04  D loss:  0.655631\n667   2361\ngen_weight [[ 40.57962418  -0.31618577  -0.57987791   1.12973309]\n [ 14.93714428  -1.03461289  -1.36830294  -0.63575888]\n [-33.78390884   0.3722454   -0.29335552  -1.03000128]\n ..., \n [-14.50336933   0.86721909   0.49133998   0.26648962]\n [ 44.01758194   1.14005876   1.54343581   0.70912814]\n [ 23.11143494  -0.44722098  -0.34421861   1.2395612 ]]\n"
     ]
    },
    {
     "name": "stdout",
     "output_type": "stream",
     "text": [
      "accuracy :  1.0\n"
     ]
    },
    {
     "name": "stdout",
     "output_type": "stream",
     "text": [
      "(50, 200, 4)\nGenerated [4724  176   75  102]\nepoch:  6  cnt_step_num:  155  G loss:  2478.33  D loss:  0.633967\n717   2361\ngen_weight [[ 40.60146332  -0.3380264   -0.60171854   1.10789251]\n [ 14.93714428  -1.03461289  -1.36830294  -0.63575888]\n [-33.80574799   0.394086    -0.27151492  -1.00816071]\n ..., \n [-14.50336933   0.86721909   0.49133998   0.26648962]\n [ 44.01125717   1.16081429   1.5540185    0.7228803 ]\n [ 23.11143494  -0.44722107  -0.34421861   1.2395612 ]]\n"
     ]
    },
    {
     "name": "stdout",
     "output_type": "stream",
     "text": [
      "accuracy :  0.98\n"
     ]
    },
    {
     "name": "stdout",
     "output_type": "stream",
     "text": [
      "(50, 200, 4)\nGenerated [4635  185   76  106]\nepoch:  6  cnt_step_num:  156  G loss:  2397.6  D loss:  0.678155\n767   2361\ngen_weight [[ 40.62028885  -0.35685018  -0.62054229   1.08906877]\n [ 14.93714428  -1.03461289  -1.36830294  -0.63575888]\n [-33.82457352   0.41290978  -0.25269118  -0.98933697]\n ..., \n [-14.50336933   0.86721909   0.49133998   0.26648962]\n [ 44.00580978   1.17870235   1.56313705   0.73473066]\n [ 23.11143494  -0.44722113  -0.34421861   1.2395612 ]]\n"
     ]
    },
    {
     "name": "stdout",
     "output_type": "stream",
     "text": [
      "accuracy :  0.97\n"
     ]
    },
    {
     "name": "stdout",
     "output_type": "stream",
     "text": [
      "(50, 200, 4)\nGenerated [4421  195   78  101]\nepoch:  6  cnt_step_num:  157  G loss:  1617.93  D loss:  0.776046\n817   2361\ngen_weight [[ 40.63672638  -0.37328911  -0.63698125   1.07262957]\n [ 14.93714428  -1.03461289  -1.36830294  -0.63575888]\n [-33.84101105   0.42934871  -0.23625225  -0.97289777]\n ..., \n [-14.50336933   0.86721909   0.49133998   0.26648962]\n [ 43.98814011   1.2076478    1.58119071   0.76007539]\n [ 23.11143494  -0.44722006  -0.34421855   1.23956275]]\n"
     ]
    },
    {
     "name": "stdout",
     "output_type": "stream",
     "text": [
      "accuracy :  0.98\n"
     ]
    },
    {
     "name": "stdout",
     "output_type": "stream",
     "text": [
      "(50, 200, 4)\nGenerated [4330  197   79  105]\nepoch:  6  cnt_step_num:  158  G loss:  1863.6  D loss:  0.711166\n867   2361\ngen_weight [[ 40.66080856  -0.39148641  -0.655316     1.04397202]\n [ 14.93714428  -1.03461289  -1.36830294  -0.63575888]\n [-33.86509323   0.44754615  -0.21791737  -0.94424027]\n ..., \n [-14.50336933   0.86721909   0.49133998   0.26648962]\n [ 43.9633522    1.23243582   1.60597849   0.78486329]\n [ 23.10327339  -0.42601132  -0.33753198   1.26158464]]\n"
     ]
    },
    {
     "name": "stdout",
     "output_type": "stream",
     "text": [
      "accuracy :  0.98\n"
     ]
    },
    {
     "name": "stdout",
     "output_type": "stream",
     "text": [
      "(50, 200, 4)\nGenerated [4320  210   73  125]\nepoch:  6  cnt_step_num:  159  G loss:  1973.73  D loss:  0.896076\n917   2361\ngen_weight [[ 40.68229675  -0.40767926  -0.67163235   1.01831329]\n [ 14.93714428  -1.03461289  -1.36830294  -0.63575888]\n [-33.88658142   0.46373916  -0.20160086  -0.9185816 ]\n ..., \n [-14.50336933   0.86721909   0.49133998   0.26648962]\n [ 43.94132233   1.25446737   1.62800992   0.80689478]\n [ 23.09602165  -0.40716594  -0.33159226   1.28115284]]\n"
     ]
    },
    {
     "name": "stdout",
     "output_type": "stream",
     "text": [
      "accuracy :  0.97\n"
     ]
    },
    {
     "name": "stdout",
     "output_type": "stream",
     "text": [
      "(50, 200, 4)\nGenerated [4332  219   75  138]\nepoch:  6  cnt_step_num:  160  G loss:  1933.46  D loss:  0.868514\n967   2361\ngen_weight [[ 40.70148087  -0.42213309  -0.68619651   0.99540174]\n [ 14.93714428  -1.03461289  -1.36830294  -0.63575888]\n [-33.90576553   0.4781931   -0.18703659  -0.89567006]\n ..., \n [-14.50336933   0.86721909   0.49133998   0.26648962]\n [ 43.92166138   1.27413023   1.64767265   0.82655752]\n [ 23.08955193  -0.3903479   -0.32629308   1.29861629]]\n"
     ]
    },
    {
     "name": "stdout",
     "output_type": "stream",
     "text": [
      "accuracy :  1.0\n"
     ]
    },
    {
     "name": "stdout",
     "output_type": "stream",
     "text": [
      "(50, 200, 4)\nGenerated [4200  221   76  142]\nepoch:  6  cnt_step_num:  161  G loss:  2241.47  D loss:  0.831373\n1017   2361\ngen_weight [[ 40.71867371  -0.43508643  -0.69924867   0.97486866]\n [ 14.93714428  -1.03461289  -1.36830294  -0.63575888]\n [-33.92295837   0.49114656  -0.17398427  -0.87513697]\n ..., \n [-14.50336933   0.86721909   0.49133998   0.26648962]\n [ 43.90404129   1.29175186   1.66529417   0.84417903]\n [ 23.08375549  -0.37527686  -0.32154575   1.31426585]]\n"
     ]
    },
    {
     "name": "stdout",
     "output_type": "stream",
     "text": [
      "accuracy :  0.98\n"
     ]
    },
    {
     "name": "stdout",
     "output_type": "stream",
     "text": [
      "(50, 200, 4)\nGenerated [4250  225   79  149]\nepoch:  6  cnt_step_num:  162  G loss:  3200.28  D loss:  0.851204\n1067   2361\ngen_weight [[ 40.73413086  -0.44673324  -0.71098429   0.95640665]\n [ 14.93714428  -1.03461289  -1.36830294  -0.63575888]\n [-33.93841553   0.50279349  -0.16224857  -0.85667497]\n ..., \n [-14.50336933   0.86721909   0.49133998   0.26648962]\n [ 43.88819885   1.30759609   1.68113828   0.86002314]\n [ 23.07854652  -0.36172697  -0.3172788    1.32833612]]\n"
     ]
    },
    {
     "name": "stdout",
     "output_type": "stream",
     "text": [
      "accuracy :  0.99\n"
     ]
    },
    {
     "name": "stdout",
     "output_type": "stream",
     "text": [
      "(50, 200, 4)\nGenerated [4265  229   82  154]\nepoch:  6  cnt_step_num:  163  G loss:  2590.39  D loss:  0.852412\n1117   2361\ngen_weight [[ 40.74806595  -0.4572331   -0.72156221   0.93976313]\n [ 14.93714428  -1.03461289  -1.36830294  -0.63575888]\n [-33.95235062   0.51329345  -0.15167056  -0.84003145]\n ..., \n [-14.50336933   0.86721909   0.49133998   0.26648962]\n [ 43.87391663   1.32187963   1.6954217    0.87430668]\n [ 23.07385254  -0.34951258  -0.31343356   1.34101987]]\n"
     ]
    },
    {
     "name": "stdout",
     "output_type": "stream",
     "text": [
      "accuracy :  1.0\n"
     ]
    },
    {
     "name": "stdout",
     "output_type": "stream",
     "text": [
      "(50, 200, 4)\nGenerated [4120  231   81  158]\nepoch:  6  cnt_step_num:  164  G loss:  2393.81  D loss:  0.953018\n1167   2361\ngen_weight [[ 40.76951981  -0.47284189  -0.70373178   0.92478424]\n [ 14.93714428  -1.03461289  -1.36830294  -0.63575888]\n [-33.97380829   0.52890253  -0.1695013   -0.82505256]\n ..., \n [-14.50336933   0.86721909   0.49133998   0.26648962]\n [ 43.86101151   1.33478367   1.70832527   0.88721067]\n [ 23.0696125   -0.33847842  -0.30996159   1.35247791]]\n"
     ]
    },
    {
     "name": "stdout",
     "output_type": "stream",
     "text": [
      "accuracy :  0.95\n"
     ]
    },
    {
     "name": "stdout",
     "output_type": "stream",
     "text": [
      "(50, 200, 4)\nGenerated [3971  232   72  154]\nepoch:  6  cnt_step_num:  165  G loss:  5788.85  D loss:  1.01311\n1217   2361\ngen_weight [[ 40.78937912  -0.48722109  -0.68697619   0.91119266]\n [ 14.93714428  -1.03461289  -1.36830294  -0.63575888]\n [-33.99367142   0.54328203  -0.18625717  -0.81146097]\n ..., \n [-14.50336933   0.86721909   0.49133998   0.26648962]\n [ 43.84933472   1.34646165   1.72000277   0.89888853]\n [ 23.06577682  -0.32849345  -0.30682066   1.36284661]]\n"
     ]
    },
    {
     "name": "stdout",
     "output_type": "stream",
     "text": [
      "accuracy :  0.98\n"
     ]
    },
    {
     "name": "stdout",
     "output_type": "stream",
     "text": [
      "(50, 200, 4)\nGenerated [3939  235   67  155]\nepoch:  6  cnt_step_num:  166  G loss:  5146.28  D loss:  0.966603\n1267   2361\ngen_weight [[ 40.79109192  -0.49101645  -0.69170201   0.90026224]\n [ 14.93714428  -1.03461289  -1.36830294  -0.63575888]\n [-33.99538422   0.5470773   -0.18153141  -0.80053055]\n ..., \n [-14.50336933   0.86721909   0.49133998   0.26648962]\n [ 43.83875275   1.35704482   1.73058546   0.90947157]\n [ 23.06230164  -0.31944528  -0.30397511   1.37224281]]\n"
     ]
    },
    {
     "name": "stdout",
     "output_type": "stream",
     "text": [
      "accuracy :  0.99\n"
     ]
    },
    {
     "name": "stdout",
     "output_type": "stream",
     "text": [
      "(50, 200, 4)\nGenerated [3943  235   68  157]\nepoch:  6  cnt_step_num:  167  G loss:  3192.81  D loss:  0.956769\n1317   2361\ngen_weight [[ 40.78303146  -0.48806462  -0.7066257    0.8914063 ]\n [ 14.93714428  -1.03461289  -1.36830294  -0.63575888]\n [-33.98732376   0.54412514  -0.16660774  -0.79167467]\n ..., \n [-14.50336933   0.86721909   0.49133998   0.26648962]\n [ 43.82915115   1.36664689   1.74018717   0.91907352]\n [ 23.0591507   -0.31123656  -0.30139425   1.38076746]]\n"
     ]
    },
    {
     "name": "stdout",
     "output_type": "stream",
     "text": [
      "accuracy :  0.99\n"
     ]
    },
    {
     "name": "stdout",
     "output_type": "stream",
     "text": [
      "(50, 200, 4)\nGenerated [3870  232   68  157]\nepoch:  6  cnt_step_num:  168  G loss:  1751.62  D loss:  0.986545\n1367   2361\ngen_weight [[ 40.75716019  -0.46487871  -0.73433828   0.89117199]\n [ 14.93714428  -1.03461289  -1.36830294  -0.63575888]\n [-33.96145248   0.52093893  -0.13889515  -0.79144043]\n ..., \n [-14.50336933   0.86721909   0.49133998   0.26648962]\n [ 43.82043076   1.37536693   1.74890697   0.9277935 ]\n [ 23.05628967  -0.30378246  -0.29905111   1.38850868]]\n"
     ]
    },
    {
     "name": "stdout",
     "output_type": "stream",
     "text": [
      "accuracy :  0.98\n"
     ]
    },
    {
     "name": "stdout",
     "output_type": "stream",
     "text": [
      "(50, 200, 4)\nGenerated [3971  229   78  159]\nepoch:  6  cnt_step_num:  169  G loss:  1736.69  D loss:  0.989364\n1417   2361\ngen_weight [[ 40.73364639  -0.4438073   -0.75952363   0.89095825]\n [ 14.93714428  -1.03461289  -1.36830294  -0.63575888]\n [-33.93793869   0.49986729  -0.11370982  -0.7912268 ]\n ..., \n [-14.50336933   0.86721909   0.49133998   0.26648962]\n [ 43.81250381   1.38329208   1.75683188   0.93571866]\n [ 23.05368996  -0.29700837  -0.29692233   1.39554381]]\n"
     ]
    },
    {
     "name": "stdout",
     "output_type": "stream",
     "text": [
      "accuracy :  0.95\n"
     ]
    },
    {
     "name": "stdout",
     "output_type": "stream",
     "text": [
      "(50, 200, 4)\nGenerated [4152  232   83  158]\nepoch:  6  cnt_step_num:  170  G loss:  858.079  D loss:  1.10309\n1467   2361\ngen_weight [[ 40.72018814  -0.43307856  -0.76919776   0.89091963]\n [ 14.93714428  -1.03461289  -1.36830294  -0.63575888]\n [-33.92448044   0.48913839  -0.10403571  -0.7911883 ]\n ..., \n [-14.50336933   0.86721909   0.49133998   0.26648962]\n [ 43.80529785   1.39049935   1.7640388    0.94292581]\n [ 23.05132675  -0.29084834  -0.29498717   1.4019413 ]]\n"
     ]
    },
    {
     "name": "stdout",
     "output_type": "stream",
     "text": [
      "accuracy :  0.91\n"
     ]
    },
    {
     "name": "stdout",
     "output_type": "stream",
     "text": [
      "(50, 200, 4)\nGenerated [4005  224   86  152]\nepoch:  6  cnt_step_num:  171  G loss:  586.953  D loss:  1.09802\n1517   2361\ngen_weight [[ 40.73412704  -0.44913799  -0.74949098   0.8916887 ]\n [ 14.93714428  -1.03461289  -1.36830294  -0.63575888]\n [-33.93841934   0.50519782  -0.12374251  -0.7919575 ]\n ..., \n [-14.50336933   0.86721909   0.49133998   0.26648962]\n [ 43.79874039   1.39705694   1.77059615   0.94948339]\n [ 23.04917717  -0.2852439   -0.29322726   1.40776181]]\n"
     ]
    },
    {
     "name": "stdout",
     "output_type": "stream",
     "text": [
      "accuracy :  0.97\n"
     ]
    },
    {
     "name": "stdout",
     "output_type": "stream",
     "text": [
      "(50, 200, 4)\nGenerated [3986  227   82  151]\nepoch:  6  cnt_step_num:  172  G loss:  1587.94  D loss:  1.00152\n1567   2361\ngen_weight [[ 40.74681854  -0.46375811  -0.73155069   0.89238888]\n [ 14.93714428  -1.03461289  -1.36830294  -0.63575888]\n [-33.95111084   0.51981795  -0.1416828   -0.79265773]\n ..., \n [-14.50336933   0.86721909   0.49133998   0.26648962]\n [ 43.79277039   1.40302587   1.77656484   0.95545226]\n [ 23.04722214  -0.28014296  -0.29162592   1.41305947]]\n"
     ]
    },
    {
     "name": "stdout",
     "output_type": "stream",
     "text": [
      "accuracy :  0.99\n"
     ]
    },
    {
     "name": "stdout",
     "output_type": "stream",
     "text": [
      "(50, 200, 4)\nGenerated [4005  232   74  152]\nepoch:  6  cnt_step_num:  173  G loss:  3855.41  D loss:  1.01056\n1617   2361\ngen_weight [[ 40.7583847   -0.47707897  -0.71520889   0.89302051]\n [ 14.93714428  -1.03461289  -1.36830294  -0.63575888]\n [-33.962677     0.53313881  -0.15802464  -0.79328942]\n ..., \n [-14.50336933   0.86721909   0.49133998   0.26648962]\n [ 43.78733444   1.40846062   1.78199935   0.96088701]\n [ 23.04544258  -0.27549884  -0.2901684    1.4178828 ]]\n"
     ]
    },
    {
     "name": "stdout",
     "output_type": "stream",
     "text": [
      "accuracy :  0.97\n"
     ]
    },
    {
     "name": "stdout",
     "output_type": "stream",
     "text": [
      "(50, 200, 4)\nGenerated [3918  232   68  148]\nepoch:  6  cnt_step_num:  174  G loss:  18563.1  D loss:  1.14652\n1667   2361\ngen_weight [[ 40.77241135  -0.49231693  -0.69792449   0.89151436]\n [ 14.93714428  -1.03461289  -1.36830294  -0.63575888]\n [-33.97670364   0.54837674  -0.17530902  -0.79178333]\n ..., \n [-14.50336933   0.86721909   0.49133998   0.26648962]\n [ 43.78238678   1.41341019   1.7869488    0.96583658]\n [ 23.04382133  -0.27126959  -0.28884149   1.4222753 ]]\n"
     ]
    },
    {
     "name": "stdout",
     "output_type": "stream",
     "text": [
      "accuracy :  0.99\n"
     ]
    },
    {
     "name": "stdout",
     "output_type": "stream",
     "text": [
      "(50, 200, 4)\nGenerated [3861  232   63  145]\nepoch:  6  cnt_step_num:  175  G loss:  2157.39  D loss:  1.02374\n1717   2361\ngen_weight [[ 40.77590942  -0.497866    -0.68866801   0.89533114]\n [ 14.93714428  -1.03461289  -1.36830294  -0.63575888]\n [-33.98020172   0.55392581  -0.18456551  -0.79560018]\n ..., \n [-14.50336933   0.86721909   0.49133998   0.26648962]\n [ 43.77787781   1.4179188    1.79145718   0.97034514]\n [ 23.04234505  -0.26741746  -0.28763324   1.42627621]]\n"
     ]
    },
    {
     "name": "stdout",
     "output_type": "stream",
     "text": [
      "accuracy :  1.0\n"
     ]
    },
    {
     "name": "stdout",
     "output_type": "stream",
     "text": [
      "(50, 200, 4)\nGenerated [3915  235   64  147]\nepoch:  6  cnt_step_num:  176  G loss:  1953.65  D loss:  0.976029\n1767   2361\ngen_weight [[ 40.77258301  -0.49699271  -0.6849618    0.90269881]\n [ 14.93714428  -1.03461289  -1.36830294  -0.63575888]\n [-33.97687531   0.55305248  -0.18827175  -0.80296797]\n ..., \n [-14.50336933   0.86721909   0.49133998   0.26648962]\n [ 43.77376938   1.42202616   1.79556441   0.97445244]\n [ 23.04100037  -0.26390842  -0.28653294   1.42992079]]\n"
     ]
    },
    {
     "name": "stdout",
     "output_type": "stream",
     "text": [
      "accuracy :  0.99\n"
     ]
    },
    {
     "name": "stdout",
     "output_type": "stream",
     "text": [
      "(50, 200, 4)\nGenerated [3916  234   63  145]\nepoch:  6  cnt_step_num:  177  G loss:  1291.56  D loss:  1.07606\n1817   2361\ngen_weight [[ 40.7590065   -0.48634976  -0.68977594   0.91613472]\n [ 14.93714428  -1.03461289  -1.36830294  -0.63575888]\n [-33.9632988    0.54240948  -0.18345758  -0.81640399]\n ..., \n [-14.50336933   0.86721909   0.49133998   0.26648962]\n [ 43.77002716   1.42576826   1.79930639   0.97819453]\n [ 23.03977585  -0.26071161  -0.28553084   1.43324113]]\n"
     ]
    },
    {
     "name": "stdout",
     "output_type": "stream",
     "text": [
      "accuracy :  1.0\n"
     ]
    },
    {
     "name": "stdout",
     "output_type": "stream",
     "text": [
      "(50, 200, 4)\nGenerated [3994  234   66  145]\nepoch:  6  cnt_step_num:  178  G loss:  1185.31  D loss:  1.01339\n1867   2361\ngen_weight [[ 40.74633789  -0.47637787  -0.69438577   0.9285692 ]\n [ 14.93714428  -1.03461289  -1.36830294  -0.63575888]\n [-33.95063019   0.53243756  -0.17884777  -0.82883865]\n ..., \n [-14.50336933   0.86721909   0.49133998   0.26648962]\n [ 43.76661682   1.42917776   1.80271578   0.98160404]\n [ 23.03866005  -0.25779915  -0.28461814   1.43626618]]\n"
     ]
    },
    {
     "name": "stdout",
     "output_type": "stream",
     "text": [
      "accuracy :  0.97\n"
     ]
    },
    {
     "name": "stdout",
     "output_type": "stream",
     "text": [
      "(50, 200, 4)\nGenerated [3997  232   67  142]\nepoch:  6  cnt_step_num:  179  G loss:  1849.15  D loss:  1.00145\n1917   2361\ngen_weight [[ 40.73480606  -0.46730244  -0.69857758   0.93989146]\n [ 14.93714428  -1.03461289  -1.36830294  -0.63575888]\n [-33.93909836   0.5233621   -0.17465596  -0.84016103]\n ..., \n [-14.50336933   0.86721909   0.49133998   0.26648962]\n [ 43.76351166   1.43228424   1.80582213   0.98471051]\n [ 23.03764534  -0.25514573  -0.28378686   1.4390223 ]]\n"
     ]
    },
    {
     "name": "stdout",
     "output_type": "stream",
     "text": [
      "accuracy :  0.97\n"
     ]
    },
    {
     "name": "stdout",
     "output_type": "stream",
     "text": [
      "(50, 200, 4)\nGenerated [4000  229   68  139]\nepoch:  6  cnt_step_num:  180  G loss:  2193.58  D loss:  1.01589\n1967   2361\ngen_weight [[ 40.72430038  -0.4590348   -0.70239592   0.95020652]\n [ 14.93714428  -1.03461289  -1.36830294  -0.63575888]\n [-33.92859268   0.51509446  -0.17083766  -0.85047621]\n ..., \n [-14.50336933   0.86721909   0.49133998   0.26648962]\n [ 43.76068115   1.43511462   1.8086524    0.9875409 ]\n [ 23.03672028  -0.25272834  -0.28302974   1.44153321]]\n"
     ]
    },
    {
     "name": "stdout",
     "output_type": "stream",
     "text": [
      "accuracy :  0.96\n"
     ]
    },
    {
     "name": "stdout",
     "output_type": "stream",
     "text": [
      "(50, 200, 4)\nGenerated [4002  227   70  136]\nepoch:  6  cnt_step_num:  181  G loss:  3268.09  D loss:  1.0111\n2017   2361\ngen_weight [[ 40.71472931  -0.4515025   -0.70587456   0.9596042 ]\n [ 14.93714428  -1.03461289  -1.36830294  -0.63575888]\n [-33.91902161   0.50756216  -0.16735901  -0.85987401]\n ..., \n [-14.50336933   0.86721909   0.49133998   0.26648962]\n [ 43.75810242   1.43769336   1.81123102   0.99011958]\n [ 23.03587723  -0.25052607  -0.2823402    1.44382071]]\n"
     ]
    },
    {
     "name": "stdout",
     "output_type": "stream",
     "text": [
      "accuracy :  1.0\n"
     ]
    },
    {
     "name": "stdout",
     "output_type": "stream",
     "text": [
      "(50, 200, 4)\nGenerated [4005  225   71  134]\nepoch:  6  cnt_step_num:  182  G loss:  1825.31  D loss:  0.988072\n2067   2361\ngen_weight [[ 40.70600891  -0.44464046  -0.70904368   0.96816564]\n [ 14.93714428  -1.03461289  -1.36830294  -0.63575888]\n [-33.91030121   0.50070012  -0.1641899   -0.86843556]\n ..., \n [-14.50336933   0.86721909   0.49133998   0.26648962]\n [ 43.75575256   1.44004261   1.81358016   0.99246877]\n [ 23.03511047  -0.24851991  -0.28171223   1.44590461]]\n"
     ]
    },
    {
     "name": "stdout",
     "output_type": "stream",
     "text": [
      "accuracy :  0.99\n"
     ]
    },
    {
     "name": "stdout",
     "output_type": "stream",
     "text": [
      "(50, 200, 4)\nGenerated [4007  223   72  132]\nepoch:  6  cnt_step_num:  183  G loss:  2215.98  D loss:  0.978013\n2117   2361\ngen_weight [[ 40.69806671  -0.43838948  -0.71193057   0.97596467]\n [ 14.93714428  -1.03461289  -1.36830294  -0.63575888]\n [-33.90235901   0.49444914  -0.161303    -0.87623465]\n ..., \n [-14.50336933   0.86721909   0.49133998   0.26648962]\n [ 43.75361252   1.44218266   1.81572008   0.99460876]\n [ 23.03441238  -0.24669255  -0.28114042   1.44780278]]\n"
     ]
    },
    {
     "name": "stdout",
     "output_type": "stream",
     "text": [
      "accuracy :  0.99\n"
     ]
    },
    {
     "name": "stdout",
     "output_type": "stream",
     "text": [
      "(50, 200, 4)\nGenerated [4009  222   73  130]\nepoch:  6  cnt_step_num:  184  G loss:  2271.04  D loss:  0.98906\n2167   2361\ngen_weight [[ 40.69082642  -0.43268883  -0.71456808   0.98306817]\n [ 14.93714428  -1.03461289  -1.36830294  -0.63575888]\n [-33.89511871   0.48874849  -0.15866551  -0.88333827]\n ..., \n [-14.50336933   0.86721909   0.49133998   0.26648962]\n [ 43.75166321   1.44413197   1.81766927   0.99655801]\n [ 23.03377533  -0.2450282   -0.28061977   1.44953167]]\n"
     ]
    },
    {
     "name": "stdout",
     "output_type": "stream",
     "text": [
      "accuracy :  0.97\n"
     ]
    },
    {
     "name": "stdout",
     "output_type": "stream",
     "text": [
      "(50, 200, 4)\nGenerated [4010  220   74  128]\nepoch:  6  cnt_step_num:  185  G loss:  3329.86  D loss:  1.00095\n2217   2361\ngen_weight [[ 40.68379974  -0.4270429   -0.71749264   0.9895193 ]\n [ 14.93714428  -1.03461289  -1.36830294  -0.63575888]\n [-33.88809204   0.48310253  -0.15574092  -0.88978952]\n ..., \n [-14.50336933   0.86721909   0.49133998   0.26648962]\n [ 43.74988937   1.44590724   1.81944454   0.99833333]\n [ 23.0331955   -0.24351248  -0.28014573   1.45110619]]\n"
     ]
    },
    {
     "name": "stdout",
     "output_type": "stream",
     "text": [
      "accuracy :  1.0\n"
     ]
    },
    {
     "name": "stdout",
     "output_type": "stream",
     "text": [
      "(50, 200, 4)\nGenerated [4012  219   74  127]\nepoch:  6  cnt_step_num:  186  G loss:  2857.76  D loss:  0.953204\n2267   2361\ngen_weight [[ 40.67684555  -0.42131618  -0.72082931   0.99537027]\n [ 14.93714428  -1.03461289  -1.36830294  -0.63575888]\n [-33.88113785   0.47737581  -0.15240422  -0.89564055]\n ..., \n [-14.50336933   0.86721909   0.49133998   0.26648962]\n [ 43.74827194   1.44752395   1.82106113   0.99995005]\n [ 23.03266907  -0.24213228  -0.27971423   1.45253992]]\n"
     ]
    },
    {
     "name": "stdout",
     "output_type": "stream",
     "text": [
      "accuracy :  1.0\n"
     ]
    },
    {
     "name": "stdout",
     "output_type": "stream",
     "text": [
      "(50, 200, 4)\nGenerated [4014  217   75  125]\nepoch:  6  cnt_step_num:  187  G loss:  2152.68  D loss:  0.975331\n2317   2361\ngen_weight [[ 40.67097092  -0.41658106  -0.72331655   1.00071728]\n [ 14.93714428  -1.03461289  -1.36830294  -0.63575888]\n [-33.87526321   0.47264069  -0.14991696  -0.90098763]\n ..., \n [-14.50336933   0.86721909   0.49133998   0.26648962]\n [ 43.74679947   1.44899607   1.82253313   1.00142217]\n [ 23.03218842  -0.24087563  -0.27932146   1.45384538]]\n"
     ]
    },
    {
     "name": "stdout",
     "output_type": "stream",
     "text": [
      "accuracy :  0.98\n"
     ]
    },
    {
     "name": "stdout",
     "output_type": "stream",
     "text": [
      "(50, 200, 4)\nGenerated [4015  216   76  124]\nepoch:  7  cnt_step_num:  188  G loss:  2089.29  D loss:  0.949688\n6   2361\ngen_weight [[ 40.6656723   -0.41232595  -0.7255168    1.00558758]\n [ 14.93714428  -1.03461289  -1.36830294  -0.63575888]\n [-33.8699646    0.46838558  -0.14771672  -0.90585804]\n ..., \n [-14.50336933   0.86721909   0.49133998   0.26648962]\n [ 43.74546051   1.45033634   1.82387328   1.00276244]\n [ 23.03175163  -0.23973164  -0.27896401   1.45503378]]\n"
     ]
    },
    {
     "name": "stdout",
     "output_type": "stream",
     "text": [
      "accuracy :  0.99\n"
     ]
    },
    {
     "name": "stdout",
     "output_type": "stream",
     "text": [
      "(50, 200, 4)\nGenerated [4017  215   77  123]\nepoch:  7  cnt_step_num:  189  G loss:  1933.58  D loss:  0.933776\n56   2361\ngen_weight [[ 40.66085434  -0.40845451  -0.72751743   1.01002109]\n [ 14.93714428  -1.03461289  -1.36830294  -0.63575888]\n [-33.86514664   0.46451411  -0.14571612  -0.91029167]\n ..., \n [-14.50336933   0.86721909   0.49133998   0.26648962]\n [ 43.74423981   1.45155632   1.82509327   1.00398242]\n [ 23.0313549   -0.23869033  -0.27863875   1.4561156 ]]\n"
     ]
    },
    {
     "name": "stdout",
     "output_type": "stream",
     "text": [
      "accuracy :  0.97\n"
     ]
    },
    {
     "name": "stdout",
     "output_type": "stream",
     "text": [
      "(50, 200, 4)\nGenerated [4018  214   77  122]\nepoch:  7  cnt_step_num:  190  G loss:  1671.2  D loss:  0.94754\n106   2361\ngen_weight [[ 40.65646744  -0.40493146  -0.72933757   1.01405644]\n [ 14.93714428  -1.03461289  -1.36830294  -0.63575888]\n [-33.86075974   0.46099102  -0.14389595  -0.91432709]\n ..., \n [-14.50336933   0.86721909   0.49133998   0.26648962]\n [ 43.74312973   1.45266676   1.8262037    1.00509286]\n [ 23.03099251  -0.23774263  -0.27834281   1.45710015]]\n"
     ]
    },
    {
     "name": "stdout",
     "output_type": "stream",
     "text": [
      "accuracy :  0.97\n"
     ]
    },
    {
     "name": "stdout",
     "output_type": "stream",
     "text": [
      "(50, 200, 4)\nGenerated [4019  213   78  121]\nepoch:  7  cnt_step_num:  191  G loss:  1478.91  D loss:  0.987204\n156   2361\ngen_weight [[ 40.65247726  -0.40172544  -0.73099387   1.01772881]\n [ 14.93714428  -1.03461289  -1.36830294  -0.63575888]\n [-33.85676956   0.45778501  -0.14223967  -0.91799951]\n ..., \n [-14.50336933   0.86721909   0.49133998   0.26648962]\n [ 43.74211884   1.4536773    1.82721424   1.0061034 ]\n [ 23.03066254  -0.23688024  -0.27807358   1.45799613]]\n"
     ]
    },
    {
     "name": "stdout",
     "output_type": "stream",
     "text": [
      "accuracy :  1.0\n"
     ]
    },
    {
     "ename": "KeyboardInterrupt",
     "evalue": "",
     "traceback": [
      "\u001b[1;31m---------------------------------------------------------------------------\u001b[0m",
      "\u001b[1;31mKeyboardInterrupt\u001b[0m                         Traceback (most recent call last)",
      "\u001b[1;32m<ipython-input-8-7024e88008f1>\u001b[0m in \u001b[0;36m<module>\u001b[1;34m()\u001b[0m\n\u001b[0;32m     47\u001b[0m                 train_g_loss, train_d_loss, _, generated, dis_res_see_gen, dis_res_see_real = sess.run(\n\u001b[0;32m     48\u001b[0m                     \u001b[1;33m[\u001b[0m\u001b[0mg_fm_loss\u001b[0m\u001b[1;33m,\u001b[0m \u001b[0md_loss\u001b[0m\u001b[1;33m,\u001b[0m \u001b[0mtrain_tens_G\u001b[0m\u001b[1;33m,\u001b[0m \u001b[0mgen_res\u001b[0m\u001b[1;33m,\u001b[0m \u001b[0mdis_res_gen\u001b[0m\u001b[1;33m,\u001b[0m \u001b[0mdis_res_real\u001b[0m\u001b[1;33m]\u001b[0m\u001b[1;33m,\u001b[0m\u001b[1;33m\u001b[0m\u001b[0m\n\u001b[1;32m---> 49\u001b[1;33m                     feed_dict=train_dict)\n\u001b[0m\u001b[0;32m     50\u001b[0m             \u001b[1;32melse\u001b[0m\u001b[1;33m:\u001b[0m\u001b[1;33m\u001b[0m\u001b[0m\n\u001b[0;32m     51\u001b[0m                 train_g_loss, train_d_loss, _, _, generated, dis_res_see_gen, dis_res_see_real = sess.run([g_fm_loss, d_loss, train_tens_D, train_tens_G, gen_res, dis_res_gen, dis_res_real],\n",
      "\u001b[1;32mC:\\ProgramData\\Anaconda3\\lib\\site-packages\\tensorflow\\python\\client\\session.py\u001b[0m in \u001b[0;36mrun\u001b[1;34m(self, fetches, feed_dict, options, run_metadata)\u001b[0m\n\u001b[0;32m    893\u001b[0m     \u001b[1;32mtry\u001b[0m\u001b[1;33m:\u001b[0m\u001b[1;33m\u001b[0m\u001b[0m\n\u001b[0;32m    894\u001b[0m       result = self._run(None, fetches, feed_dict, options_ptr,\n\u001b[1;32m--> 895\u001b[1;33m                          run_metadata_ptr)\n\u001b[0m\u001b[0;32m    896\u001b[0m       \u001b[1;32mif\u001b[0m \u001b[0mrun_metadata\u001b[0m\u001b[1;33m:\u001b[0m\u001b[1;33m\u001b[0m\u001b[0m\n\u001b[0;32m    897\u001b[0m         \u001b[0mproto_data\u001b[0m \u001b[1;33m=\u001b[0m \u001b[0mtf_session\u001b[0m\u001b[1;33m.\u001b[0m\u001b[0mTF_GetBuffer\u001b[0m\u001b[1;33m(\u001b[0m\u001b[0mrun_metadata_ptr\u001b[0m\u001b[1;33m)\u001b[0m\u001b[1;33m\u001b[0m\u001b[0m\n",
      "\u001b[1;32mC:\\ProgramData\\Anaconda3\\lib\\site-packages\\tensorflow\\python\\client\\session.py\u001b[0m in \u001b[0;36m_run\u001b[1;34m(self, handle, fetches, feed_dict, options, run_metadata)\u001b[0m\n\u001b[0;32m   1122\u001b[0m     \u001b[1;32mif\u001b[0m \u001b[0mfinal_fetches\u001b[0m \u001b[1;32mor\u001b[0m \u001b[0mfinal_targets\u001b[0m \u001b[1;32mor\u001b[0m \u001b[1;33m(\u001b[0m\u001b[0mhandle\u001b[0m \u001b[1;32mand\u001b[0m \u001b[0mfeed_dict_tensor\u001b[0m\u001b[1;33m)\u001b[0m\u001b[1;33m:\u001b[0m\u001b[1;33m\u001b[0m\u001b[0m\n\u001b[0;32m   1123\u001b[0m       results = self._do_run(handle, final_targets, final_fetches,\n\u001b[1;32m-> 1124\u001b[1;33m                              feed_dict_tensor, options, run_metadata)\n\u001b[0m\u001b[0;32m   1125\u001b[0m     \u001b[1;32melse\u001b[0m\u001b[1;33m:\u001b[0m\u001b[1;33m\u001b[0m\u001b[0m\n\u001b[0;32m   1126\u001b[0m       \u001b[0mresults\u001b[0m \u001b[1;33m=\u001b[0m \u001b[1;33m[\u001b[0m\u001b[1;33m]\u001b[0m\u001b[1;33m\u001b[0m\u001b[0m\n",
      "\u001b[1;32mC:\\ProgramData\\Anaconda3\\lib\\site-packages\\tensorflow\\python\\client\\session.py\u001b[0m in \u001b[0;36m_do_run\u001b[1;34m(self, handle, target_list, fetch_list, feed_dict, options, run_metadata)\u001b[0m\n\u001b[0;32m   1319\u001b[0m     \u001b[1;32mif\u001b[0m \u001b[0mhandle\u001b[0m \u001b[1;32mis\u001b[0m \u001b[1;32mNone\u001b[0m\u001b[1;33m:\u001b[0m\u001b[1;33m\u001b[0m\u001b[0m\n\u001b[0;32m   1320\u001b[0m       return self._do_call(_run_fn, self._session, feeds, fetches, targets,\n\u001b[1;32m-> 1321\u001b[1;33m                            options, run_metadata)\n\u001b[0m\u001b[0;32m   1322\u001b[0m     \u001b[1;32melse\u001b[0m\u001b[1;33m:\u001b[0m\u001b[1;33m\u001b[0m\u001b[0m\n\u001b[0;32m   1323\u001b[0m       \u001b[1;32mreturn\u001b[0m \u001b[0mself\u001b[0m\u001b[1;33m.\u001b[0m\u001b[0m_do_call\u001b[0m\u001b[1;33m(\u001b[0m\u001b[0m_prun_fn\u001b[0m\u001b[1;33m,\u001b[0m \u001b[0mself\u001b[0m\u001b[1;33m.\u001b[0m\u001b[0m_session\u001b[0m\u001b[1;33m,\u001b[0m \u001b[0mhandle\u001b[0m\u001b[1;33m,\u001b[0m \u001b[0mfeeds\u001b[0m\u001b[1;33m,\u001b[0m \u001b[0mfetches\u001b[0m\u001b[1;33m)\u001b[0m\u001b[1;33m\u001b[0m\u001b[0m\n",
      "\u001b[1;32mC:\\ProgramData\\Anaconda3\\lib\\site-packages\\tensorflow\\python\\client\\session.py\u001b[0m in \u001b[0;36m_do_call\u001b[1;34m(self, fn, *args)\u001b[0m\n\u001b[0;32m   1325\u001b[0m   \u001b[1;32mdef\u001b[0m \u001b[0m_do_call\u001b[0m\u001b[1;33m(\u001b[0m\u001b[0mself\u001b[0m\u001b[1;33m,\u001b[0m \u001b[0mfn\u001b[0m\u001b[1;33m,\u001b[0m \u001b[1;33m*\u001b[0m\u001b[0margs\u001b[0m\u001b[1;33m)\u001b[0m\u001b[1;33m:\u001b[0m\u001b[1;33m\u001b[0m\u001b[0m\n\u001b[0;32m   1326\u001b[0m     \u001b[1;32mtry\u001b[0m\u001b[1;33m:\u001b[0m\u001b[1;33m\u001b[0m\u001b[0m\n\u001b[1;32m-> 1327\u001b[1;33m       \u001b[1;32mreturn\u001b[0m \u001b[0mfn\u001b[0m\u001b[1;33m(\u001b[0m\u001b[1;33m*\u001b[0m\u001b[0margs\u001b[0m\u001b[1;33m)\u001b[0m\u001b[1;33m\u001b[0m\u001b[0m\n\u001b[0m\u001b[0;32m   1328\u001b[0m     \u001b[1;32mexcept\u001b[0m \u001b[0merrors\u001b[0m\u001b[1;33m.\u001b[0m\u001b[0mOpError\u001b[0m \u001b[1;32mas\u001b[0m \u001b[0me\u001b[0m\u001b[1;33m:\u001b[0m\u001b[1;33m\u001b[0m\u001b[0m\n\u001b[0;32m   1329\u001b[0m       \u001b[0mmessage\u001b[0m \u001b[1;33m=\u001b[0m \u001b[0mcompat\u001b[0m\u001b[1;33m.\u001b[0m\u001b[0mas_text\u001b[0m\u001b[1;33m(\u001b[0m\u001b[0me\u001b[0m\u001b[1;33m.\u001b[0m\u001b[0mmessage\u001b[0m\u001b[1;33m)\u001b[0m\u001b[1;33m\u001b[0m\u001b[0m\n",
      "\u001b[1;32mC:\\ProgramData\\Anaconda3\\lib\\site-packages\\tensorflow\\python\\client\\session.py\u001b[0m in \u001b[0;36m_run_fn\u001b[1;34m(session, feed_dict, fetch_list, target_list, options, run_metadata)\u001b[0m\n\u001b[0;32m   1304\u001b[0m           return tf_session.TF_Run(session, options,\n\u001b[0;32m   1305\u001b[0m                                    \u001b[0mfeed_dict\u001b[0m\u001b[1;33m,\u001b[0m \u001b[0mfetch_list\u001b[0m\u001b[1;33m,\u001b[0m \u001b[0mtarget_list\u001b[0m\u001b[1;33m,\u001b[0m\u001b[1;33m\u001b[0m\u001b[0m\n\u001b[1;32m-> 1306\u001b[1;33m                                    status, run_metadata)\n\u001b[0m\u001b[0;32m   1307\u001b[0m \u001b[1;33m\u001b[0m\u001b[0m\n\u001b[0;32m   1308\u001b[0m     \u001b[1;32mdef\u001b[0m \u001b[0m_prun_fn\u001b[0m\u001b[1;33m(\u001b[0m\u001b[0msession\u001b[0m\u001b[1;33m,\u001b[0m \u001b[0mhandle\u001b[0m\u001b[1;33m,\u001b[0m \u001b[0mfeed_dict\u001b[0m\u001b[1;33m,\u001b[0m \u001b[0mfetch_list\u001b[0m\u001b[1;33m)\u001b[0m\u001b[1;33m:\u001b[0m\u001b[1;33m\u001b[0m\u001b[0m\n",
      "\u001b[1;31mKeyboardInterrupt\u001b[0m: "
     ],
     "output_type": "error"
    }
   ],
   "source": [
    "with tf.Session() as sess:\n",
    "    saved_loc = tf.train.latest_checkpoint('./saved_model/')\n",
    "    print(saved_loc)\n",
    "    cnt_step = 0\n",
    "    EPOCH_start = 0\n",
    "\n",
    "    if saved_loc is None:\n",
    "        sess.run(tf.global_variables_initializer())\n",
    "        print('No Saved Session')\n",
    "    else:\n",
    "        saver.restore(sess, saved_loc)\n",
    "        cnt_step = save_cnt.eval(sess)\n",
    "        EPOCH_start = (batch_size * cnt_step) // song_num['train']\n",
    "        song_var['train'] = (batch_size * cnt_step) % song_num['train']\n",
    "        print('Saved Session Found step: ', cnt_step)\n",
    "    EPOCH_start = 6\n",
    "    for epoch in range(EPOCH_start, 6):\n",
    "        while True:\n",
    "            song_data, song_getsoo = get_batch_matrix()\n",
    "            #Pretraining\n",
    "            pretrain_dict = {x_in: song_data, x_size: song_getsoo}\n",
    "            if isAdam:\n",
    "                _, p_loss =  sess.run([train_pre_A, pretrain_loss], feed_dict = pretrain_dict)\n",
    "            else:\n",
    "                _, p_loss = sess.run([train_pre_G, pretrain_loss], feed_dict = pretrain_dict)\n",
    "            print('P: ', p_loss)\n",
    "            if song_var['train'] + batch_size > song_num['train']:\n",
    "                break\n",
    "\n",
    "\n",
    "    print('Pre train completed')\n",
    "\n",
    "    for epoch in range(EPOCH_start, EPOCH):\n",
    "        while True:\n",
    "            song_data, song_getsoo = get_batch_matrix()\n",
    "            train_dict = {x_in: song_data, x_size: song_getsoo}\n",
    "            # Freezing을 위한 Accuracy 구하기\n",
    "            accuracy = sess.run(accuracy_res, feed_dict=train_dict)\n",
    "            print('accuracy : ', accuracy)\n",
    "            if isAdam:\n",
    "                train_tens_G = train_AdamG\n",
    "                train_tens_D = train_AdamD\n",
    "            else:\n",
    "                train_tens_G = trainG\n",
    "                train_tens_D = trainD\n",
    "            if accuracy>=0.7:\n",
    "                train_g_loss, train_d_loss, _, generated, dis_res_see_gen, dis_res_see_real = sess.run(\n",
    "                    [g_fm_loss, d_loss, train_tens_G, gen_res, dis_res_gen, dis_res_real],\n",
    "                    feed_dict=train_dict)\n",
    "            else:\n",
    "                train_g_loss, train_d_loss, _, _, generated, dis_res_see_gen, dis_res_see_real = sess.run([g_fm_loss, d_loss, train_tens_D, train_tens_G, gen_res, dis_res_gen, dis_res_real],\n",
    "                                                                                                          feed_dict=train_dict)\n",
    "            generated = generated.astype(int)\n",
    "            print(generated.shape)\n",
    "            np.savetxt('generated_song.txt', generated[0])\n",
    "            print('Generated', generated[0][-1])\n",
    "            if cnt_step % print_batch == 0:\n",
    "                print('epoch: ', epoch, ' cnt_step_num: ', cnt_step, ' G loss: ', train_g_loss,' D loss: ', train_d_loss)\n",
    "            print(song_var['train'], ' ', song_num['train'])\n",
    "            cnt_step += 1\n",
    "            print('gen_weight', sess.run(generator_variables[-2]))\n",
    "            sess.run(tf.assign(save_cnt, cnt_step))\n",
    "            if cnt_step % save_batch == 1:\n",
    "                saver.save(sess, './saved_model/model.ckpt', global_step = cnt_step)\n",
    "            if song_var['train'] + batch_size > song_num['train']:\n",
    "                break"
   ]
  },
  {
   "cell_type": "code",
   "execution_count": null,
   "metadata": {},
   "outputs": [],
   "source": [
    ""
   ]
  }
 ],
 "metadata": {
  "kernelspec": {
   "display_name": "Python 2",
   "language": "python",
   "name": "python2"
  },
  "language_info": {
   "codemirror_mode": {
    "name": "ipython",
    "version": 2.0
   },
   "file_extension": ".py",
   "mimetype": "text/x-python",
   "name": "python",
   "nbconvert_exporter": "python",
   "pygments_lexer": "ipython2",
   "version": "2.7.6"
  }
 },
 "nbformat": 4,
 "nbformat_minor": 0
}
